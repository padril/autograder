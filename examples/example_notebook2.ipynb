{
 "cells": [
  {
   "cell_type": "markdown",
   "id": "b92ffe76",
   "metadata": {
    "editable": false,
    "tags": [
     "remove"
    ]
   },
   "source": [
    "# 1.2 Basics of Programming I\n",
    "\n",
    "In this notebook, you will learn about:\n",
    "* what a computer program is (TP 1.1)\n",
    "* how to run arithmetic statements (TP 1.4)\n",
    "* what values are in Python, and which data types they belong to (TP 1.5)\n",
    "* what variables are and how to assign values to them (TP 2.1)\n",
    "* what expressions and statements are (TP 2.3)\n",
    "* how the order of operations works, both for arithmetic and non-aritmetic statements (TP 2.5)\n",
    "* how to add comments to your code (TP 2.7)\n",
    "* how to read some common error messages (TP 2.8)\n",
    "\n",
    "These notebooks are inspired by (and sometimes outright quote from) the textbook _Think Python_. You can find the textbook in HTML, free of charge, here: [https://greenteapress.com/thinkpython2/html/](https://greenteapress.com/thinkpython2/html/). I will refer to the relevant sections of the textbook in the overview -- so TP 1.1 refers to section 1.1 of _Think Python_. While the textbook isn't necessary, it might be helpful for you to have a look at it, especially if you get stuck!\n",
    "\n",
    "Most notebooks in this Coding Project end with homework exercises from the _Think Python_ textbook. Practice with them, and discuss them on the forum, as well as next week in class."
   ]
  },
  {
   "cell_type": "code",
   "execution_count": 8,
   "id": "d4011281",
   "metadata": {
    "editable": false,
    "tags": [
     "remove"
    ]
   },
   "outputs": [],
   "source": [
    "from IPython.core.interactiveshell import InteractiveShell\n",
    "InteractiveShell.ast_node_interactivity = \"all\""
   ]
  },
  {
   "cell_type": "markdown",
   "id": "2313f79e",
   "metadata": {
    "editable": false,
    "tags": [
     "remove"
    ]
   },
   "source": [
    "### 1.2.1 Computer programs?"
   ]
  },
  {
   "cell_type": "markdown",
   "id": "0c364e75",
   "metadata": {
    "editable": false,
    "tags": [
     "remove"
    ]
   },
   "source": [
    "#### Definition:\n",
    "(TP 1.1): \"A program is a sequence of instructions that specifies how to perform a computation. The computation might be something mathematical, such as solving a system of equations or finding the roots of a polynomial, but it can also be a symbolic computation, such as searching and replacing text in a document or something graphical, like processing an image or playing a video.\""
   ]
  },
  {
   "cell_type": "markdown",
   "id": "f321ee00",
   "metadata": {
    "editable": false,
    "tags": [
     "remove"
    ]
   },
   "source": [
    "#### Now why would linguists care?\n",
    "* For corpus/text linguists, computer programs can be handy helpers in working with large amounts of data to detect patterns you might not have expected. \n",
    "* For cognitive scientists, formulating mental processes _as_ computer programs helps them understand how the mind works. \n",
    "* For practicioners of natural language processing, developing computer programs that in some capacity 'behave the same way' as humans (linguistically, in particular) can lead to interesting products (Google, Siri, autocomplete)"
   ]
  },
  {
   "cell_type": "markdown",
   "id": "d80a60d4",
   "metadata": {
    "editable": false,
    "tags": [
     "remove"
    ]
   },
   "source": [
    "#### The ingredients of a program\n",
    "(TP 1.1): \"\\[A\\] few basic instructions appear in just about every language:\n",
    "\n",
    "* **input**: Get data from the keyboard, a file, the network, or some other device.\n",
    "* **output**: Display data on the screen, save it in a file, send it over the network, etc.\n",
    "* **math**: Perform basic mathematical operations like addition and multiplication.\n",
    "* **conditional execution**: Check for certain conditions and run the appropriate code.\n",
    "* **repetition**: Perform some action repeatedly, usually with some variation.\n",
    "\n",
    "\\[...\\] You can think of programming as the process of breaking a large, complex task into smaller and smaller subtasks until the subtasks are simple enough to be performed with one of these basic instructions.\""
   ]
  },
  {
   "cell_type": "markdown",
   "id": "327e3597",
   "metadata": {
    "editable": false,
    "tags": [
     "remove"
    ]
   },
   "source": [
    "### 1.2.2 Arithmetic statements\n",
    "\n",
    "Considering the third step of the ingredients (math), let's first have a look at a basic operation that a computer program can carry out: arithmetic. Computer programs here work more or less the same way as the calculator on your phone. You type the arithmetic operation in a code cell and execute (run) it. \n",
    "\n",
    "**Let's create a code cell, type the operation below in the cell and run it.** You should see the output `9` below the code cell.\n",
    "\n",
    "```python\n",
    "1 + 8\n",
    "```"
   ]
  },
  {
   "cell_type": "code",
   "execution_count": 9,
   "id": "fdd516ca",
   "metadata": {},
   "outputs": [
    {
     "data": {
      "text/plain": [
       "9"
      ]
     },
     "execution_count": 9,
     "metadata": {},
     "output_type": "execute_result"
    }
   ],
   "source": [
    "1+8"
   ]
  },
  {
   "cell_type": "markdown",
   "id": "76411ab4",
   "metadata": {
    "editable": false,
    "tags": [
     "remove"
    ]
   },
   "source": [
    "#### Other operators\n",
    "\n",
    "Aside from addition, here are some other arithmetic operations Python lets you do\n",
    "* subtraction (`-`), \n",
    "* multiplication (`*`), \n",
    "* division (`/`), \n",
    "* exponentiation (`**`; i.e., `x ** y` returns `x` to the power `y`)\n",
    "* floor division (`//`; i.e., `x // y` returns the largest integer (whole number) smaller than or equal to `x` divided by `y`)\n",
    "* modulo operation (`%`; i.e., `x % y` returns what remains after running the floor division operation)\n",
    "\n",
    "Let's create a code cell below and practice with each of them in turn\n",
    "\n"
   ]
  },
  {
   "cell_type": "code",
   "execution_count": 10,
   "id": "8da9f208",
   "metadata": {},
   "outputs": [
    {
     "data": {
      "text/plain": [
       "-9"
      ]
     },
     "execution_count": 10,
     "metadata": {},
     "output_type": "execute_result"
    },
    {
     "data": {
      "text/plain": [
       "1000"
      ]
     },
     "execution_count": 10,
     "metadata": {},
     "output_type": "execute_result"
    },
    {
     "data": {
      "text/plain": [
       "7.5"
      ]
     },
     "execution_count": 10,
     "metadata": {},
     "output_type": "execute_result"
    },
    {
     "data": {
      "text/plain": [
       "8"
      ]
     },
     "execution_count": 10,
     "metadata": {},
     "output_type": "execute_result"
    },
    {
     "data": {
      "text/plain": [
       "4"
      ]
     },
     "execution_count": 10,
     "metadata": {},
     "output_type": "execute_result"
    },
    {
     "data": {
      "text/plain": [
       "0"
      ]
     },
     "execution_count": 10,
     "metadata": {},
     "output_type": "execute_result"
    }
   ],
   "source": [
    "1 - 10\n",
    "10 * 100\n",
    "30 / 4\n",
    "2**3\n",
    "23 // 5\n",
    "112 % 8"
   ]
  },
  {
   "cell_type": "markdown",
   "id": "faa892dc",
   "metadata": {
    "editable": false,
    "tags": [
     "remove"
    ]
   },
   "source": [
    "#### Order of operation\n",
    "\n",
    "(TP 2.5): \"When an expression contains more than one operator, the order of evaluation depends on the order of operations. For mathematical operators, Python follows mathematical convention. The acronym PEMDAS is a useful way to remember the rules:\n",
    "\n",
    "* Parentheses have the highest precedence and can be used to force an expression to evaluate in the order you want. Since expressions in parentheses are evaluated first, `2 * (3-1)` is `4`, and `(1+1)**(5-2)` is `8`. **You can also use parentheses to make an expression easier to read, even if it doesn’t change the result**.\n",
    "* Exponentiation has the next highest precedence, so `1 + 2**3` is `9`, not `27`, and `2 * 3**2` is `18`, not `36`.\n",
    "* Multiplication and Division have higher precedence than Addition and Subtraction. So `2*3-1` is `5`, not `4`, and `6+4/2` is `8`, not `5`.\n",
    "* Operators with the same precedence are evaluated from left to right (except exponentiation). So in the expression `6 / 2 * 3` the division happens first and the result is multiplied by `3`. To divide by `2 * 3`, you can use parentheses or write `6 / 2 / 3`\n",
    "\n",
    "I don’t work very hard to remember the precedence of operators. If I can’t tell by looking at the expression, **I use parentheses to make it obvious**.\""
   ]
  },
  {
   "cell_type": "markdown",
   "id": "66d24880",
   "metadata": {
    "editable": false,
    "tags": [
     "remove"
    ]
   },
   "source": [
    "#### Practice\n",
    "\n",
    "Take five minutes and try some arithmetic operations yourself! Create a code cell below, and run them. Start with simple ones, then try some more complex ones. Verify that the outcome is as you expect it. Let me know if it's not!"
   ]
  },
  {
   "cell_type": "code",
   "execution_count": 11,
   "id": "ea440fa9",
   "metadata": {},
   "outputs": [
    {
     "data": {
      "text/plain": [
       "26.0"
      ]
     },
     "execution_count": 11,
     "metadata": {},
     "output_type": "execute_result"
    }
   ],
   "source": [
    "10 * 3 - 5 + 400 // 6 ** 2 % 3 / 2\n",
    "# (10 * 3) - 5 + (((400 // (6 ** 2)) % 3) / 2)"
   ]
  },
  {
   "cell_type": "markdown",
   "id": "e227b9f8",
   "metadata": {
    "editable": false,
    "tags": [
     "remove"
    ]
   },
   "source": [
    "### 1.2.3 Values and types\n",
    "\n",
    "(TP 1.5) A **value** is one of the basic things a program works with, like a letter or a number. Some values we have seen so far are `2`, `2.5` and `'Hello, World!'`.\n",
    "\n",
    "These values belong to different **types**. A type is a category of values. For instance: `2` is an integer, `2.5` is a floating-point number, and `'Hello, World!'` is a string, so-called because the letters it contains are strung together. \n",
    "\n",
    "If you are not sure what type a value has, the interpreter can tell you, by calling the `type()` function on it.(Your first function! Remember that word)"
   ]
  },
  {
   "cell_type": "markdown",
   "id": "eda7b3dd",
   "metadata": {
    "editable": false,
    "tags": [
     "remove"
    ]
   },
   "source": [
    "#### Practice: Knowing your type\n",
    "It's important to know what types your values are, as operations work differently on them. To see that, create some code cells below (one per item in the list) and execute the operations listed below.\n",
    "\n",
    "(1) First try the following:\n",
    "\n",
    "```python\n",
    "2 + 2\n",
    "```\n",
    "\n",
    "(2) Now try:\n",
    "\n",
    "```python\n",
    "'2' + '2'\n",
    "```\n",
    "\n",
    "What do you notice? Is that what you expected?\n",
    "\n",
    "(3) Then, try:\n",
    "\n",
    "```python\n",
    "'2' + 2\n",
    "```\n",
    "\n",
    "Read the output and see if it makes sense to you.\n",
    "\n",
    "(4) And finally, try:\n",
    "\n",
    "```python\n",
    "'2' * 4\n",
    "```\n",
    "\n",
    "Can you think of why you don't get an error here?"
   ]
  },
  {
   "cell_type": "code",
   "execution_count": 12,
   "id": "fcb5ef85",
   "metadata": {},
   "outputs": [
    {
     "data": {
      "text/plain": [
       "4"
      ]
     },
     "execution_count": 12,
     "metadata": {},
     "output_type": "execute_result"
    }
   ],
   "source": [
    "2 + 2"
   ]
  },
  {
   "cell_type": "code",
   "execution_count": 13,
   "id": "d1a770dc",
   "metadata": {},
   "outputs": [
    {
     "data": {
      "text/plain": [
       "'22'"
      ]
     },
     "execution_count": 13,
     "metadata": {},
     "output_type": "execute_result"
    }
   ],
   "source": [
    "'2' + '2'"
   ]
  },
  {
   "cell_type": "code",
   "execution_count": 14,
   "id": "dc2c41a4",
   "metadata": {},
   "outputs": [
    {
     "ename": "TypeError",
     "evalue": "can only concatenate str (not \"int\") to str",
     "output_type": "error",
     "traceback": [
      "\u001b[31m---------------------------------------------------------------------------\u001b[39m",
      "\u001b[31mTypeError\u001b[39m                                 Traceback (most recent call last)",
      "\u001b[36mCell\u001b[39m\u001b[36m \u001b[39m\u001b[32mIn[14]\u001b[39m\u001b[32m, line 1\u001b[39m\n\u001b[32m----> \u001b[39m\u001b[32m1\u001b[39m \u001b[33;43m'\u001b[39;49m\u001b[33;43m2\u001b[39;49m\u001b[33;43m'\u001b[39;49m\u001b[43m \u001b[49m\u001b[43m+\u001b[49m\u001b[43m \u001b[49m\u001b[32;43m2\u001b[39;49m\n",
      "\u001b[31mTypeError\u001b[39m: can only concatenate str (not \"int\") to str"
     ]
    }
   ],
   "source": [
    "'2' + 2"
   ]
  },
  {
   "cell_type": "code",
   "execution_count": 15,
   "id": "ef818ed2",
   "metadata": {},
   "outputs": [
    {
     "data": {
      "text/plain": [
       "'2222'"
      ]
     },
     "execution_count": 15,
     "metadata": {},
     "output_type": "execute_result"
    }
   ],
   "source": [
    "'2' * 4"
   ]
  },
  {
   "cell_type": "markdown",
   "id": "fb05e321",
   "metadata": {
    "editable": false,
    "tags": [
     "remove"
    ]
   },
   "source": [
    "### 1.2.4 Variables and variable assignment\n",
    "\n",
    "(TP 2, 2.1) One of the most powerful features of a programming language is the ability to manipulate variables. A **variable** is a name that refers to a value. Think of a variable name as a label on a file drawer. You can change what's in the drawer, but the label on it will remain the same."
   ]
  },
  {
   "cell_type": "markdown",
   "id": "584a201a",
   "metadata": {
    "editable": false,
    "tags": [
     "remove"
    ]
   },
   "source": [
    "#### Variable assignment\n",
    "You can 'fill the drawer' by **assigning a value to a variable**. An assignment statement **creates a new variable** and **gives it a value**:\n",
    "\n",
    "```python\n",
    "message = 'And now for something completely different'\n",
    "n = 17\n",
    "pi = 3.1415926535897932\n",
    "```\n",
    "\n",
    "This example makes three assignments. The first assigns a string to a new variable named `message`; the second gives the integer `17` to `n`; the third assigns the (approximate) value of $\\pi$ to `pi`."
   ]
  },
  {
   "cell_type": "markdown",
   "id": "9d5adcbd",
   "metadata": {
    "editable": false,
    "tags": [
     "remove"
    ]
   },
   "source": [
    "#### Variable names\n",
    "\n",
    "(TP 2.2) Programmers generally choose names for their variables that are meaningful—they document what the variable is used for.\n",
    "\n",
    "Variable names can be as long as you like. They can contain both letters and numbers, but they can’t begin with a number. It is legal to use uppercase letters, but it is conventional to use only lower case for variables names.\n",
    "\n",
    "The underscore character, _, can appear in a name. It is often used in names with multiple words, such as your_name or airspeed_of_unladen_swallow.\n",
    "\n",
    "If you give a variable an illegal name, you get a syntax error:\n",
    "\n",
    "```python\n",
    "76trombones = 'big parade'\n",
    "```\n",
    "gives: `SyntaxError: invalid syntax`\n",
    "\n",
    "```python\n",
    "more@ = 1000000\n",
    "```\n",
    "gives: `SyntaxError: invalid syntax`\n",
    "```python\n",
    "class = 'Advanced Theoretical Zymurgy'\n",
    "```\n",
    "gives: `SyntaxError: invalid syntax`\n",
    "\n",
    "76trombones is illegal because it begins with a number. more@ is illegal because it contains an illegal character, @. But what’s wrong with class?\n",
    "\n",
    "It turns out that class is one of Python’s keywords. The interpreter uses keywords to recognize the structure of the program, and they cannot be used as variable names.\n",
    "\n",
    "Python 3 has these keywords:\n",
    "```\n",
    "False      class      finally    is         return\n",
    "None       continue   for        lambda     try\n",
    "True       def        from       nonlocal   while\n",
    "and        del        global     not        with\n",
    "as         elif       if         or         yield\n",
    "assert     else       import     pass\n",
    "break      except     in         raise\n",
    "```\n",
    "You don’t have to memorize this list. In Jupyter Notebooks, keywords (as well as name-initial numbers) are displayed in a different color; if you try to use one as a variable name, you’ll know."
   ]
  },
  {
   "cell_type": "markdown",
   "id": "1dfabe9e",
   "metadata": {
    "editable": false,
    "tags": [
     "remove"
    ]
   },
   "source": [
    "#### Using variables\n",
    "\n",
    "Once you created them, you can let variables participate in arithmetic expressions and other operations. For instance, the code below prints the string `'hahahaha'`:"
   ]
  },
  {
   "cell_type": "code",
   "execution_count": 16,
   "id": "6b140812",
   "metadata": {
    "editable": false,
    "tags": [
     "remove"
    ]
   },
   "outputs": [
    {
     "name": "stdout",
     "output_type": "stream",
     "text": [
      "hahahaha\n"
     ]
    }
   ],
   "source": [
    "syllable = 'ha'\n",
    "print(syllable * 4)"
   ]
  },
  {
   "cell_type": "markdown",
   "id": "946a7251",
   "metadata": {
    "editable": false,
    "tags": [
     "remove"
    ]
   },
   "source": [
    "\n",
    "Similarly, the code below allows you to calculate the area of a rectangle:"
   ]
  },
  {
   "cell_type": "code",
   "execution_count": 17,
   "id": "3b960c4a",
   "metadata": {
    "editable": false,
    "tags": [
     "remove"
    ]
   },
   "outputs": [
    {
     "name": "stdout",
     "output_type": "stream",
     "text": [
      "120\n"
     ]
    }
   ],
   "source": [
    "length = 12\n",
    "width = 10\n",
    "print(length * width)"
   ]
  },
  {
   "cell_type": "markdown",
   "id": "5fd5338b",
   "metadata": {
    "editable": false,
    "tags": [
     "remove"
    ]
   },
   "source": [
    "Importantly, you can save the output of an expression to a variable as well! The following bit of code does the same thing as the code above, but is more legible, because it makes explicit what `length * width` represents."
   ]
  },
  {
   "cell_type": "code",
   "execution_count": 18,
   "id": "3955d1e4",
   "metadata": {
    "editable": false,
    "tags": [
     "remove"
    ]
   },
   "outputs": [
    {
     "name": "stdout",
     "output_type": "stream",
     "text": [
      "120\n"
     ]
    }
   ],
   "source": [
    "length = 12\n",
    "width = 10\n",
    "area = length * width\n",
    "print(area)"
   ]
  },
  {
   "cell_type": "markdown",
   "id": "5b6b50f6",
   "metadata": {
    "editable": false,
    "tags": [
     "remove"
    ]
   },
   "source": [
    "Or, returning to our laughter example:"
   ]
  },
  {
   "cell_type": "code",
   "execution_count": 19,
   "id": "2556a701",
   "metadata": {
    "editable": false,
    "tags": [
     "remove"
    ]
   },
   "outputs": [
    {
     "name": "stdout",
     "output_type": "stream",
     "text": [
      "hahahaha\n"
     ]
    }
   ],
   "source": [
    "syllable = 'ha'\n",
    "laughter = syllable * 4\n",
    "print(laughter)"
   ]
  },
  {
   "cell_type": "markdown",
   "id": "4f9a3319",
   "metadata": {
    "editable": false,
    "tags": [
     "remove"
    ]
   },
   "source": [
    "change description here to match filling in function skeleton\n",
    "#### Practice\n",
    "\n",
    "Write a program that prints \"evil laughter\", i.e., strings consisting of 'mu' followed by $n$ times 'ha'. \n",
    "\n",
    "Store the two syllables 'mu' and 'ha' in separate variables (you choose the names), and store $n$, the number of times to print 'ha' in a separate variable as well. Assign the evil laughter string to a new variable, and print that variable. \n",
    "\n",
    "Before writing the code, think of your plan of action: \n",
    "* how do you concatenate strings again?\n",
    "* how do you repeat a string a certain number of times? \n",
    "* and if you have to do both, how do you make sure you won't get something like 'muhamuhamuha' as the output for $n=3$ (which sounds distinctly less evil...)?"
   ]
  },
  {
   "cell_type": "code",
   "execution_count": null,
   "id": "e8e35634",
   "metadata": {},
   "outputs": [],
   "source": [
    "var1 = 'mu' # FILL THIS IN\n",
    "var2 = 'ha' # FILL THIS IN\n",
    "n = 100 # FILL THIS IN\n",
    "\n",
    "def evil_laugh(var1, var2, n):\n",
    "    evil_laughter = var1 + var2 * n # FILL THIS IN\n",
    "    return evil_laughter"
   ]
  },
  {
   "cell_type": "code",
   "execution_count": 40,
   "id": "33066984",
   "metadata": {},
   "outputs": [
    {
     "name": "stdout",
     "output_type": "stream",
     "text": [
      "muhahahahahahahahahahahahahahahahahahahahahahahahahahahahahahahahahahahahahahahahahahahahahahahahahahahahahahahahahahahahahahahahahahahahahahahahahahahahahahahahahahahahahahahahahahahahahahahahahahahaha\n"
     ]
    }
   ],
   "source": [
    "print(evil_laugh(var1, var2, n))"
   ]
  },
  {
   "cell_type": "markdown",
   "id": "293a209b",
   "metadata": {
    "editable": false,
    "tags": [
     "remove"
    ]
   },
   "source": [
    "#### Variable reassignment\n",
    "\n",
    "Two final things to know about variables:\n",
    "\n",
    "Once assigned, you can reassign values to variable. Try to run the following:"
   ]
  },
  {
   "cell_type": "code",
   "execution_count": 22,
   "id": "cb3c78c8",
   "metadata": {
    "editable": false,
    "tags": [
     "remove"
    ]
   },
   "outputs": [
    {
     "name": "stdout",
     "output_type": "stream",
     "text": [
      "40\n",
      "20\n"
     ]
    }
   ],
   "source": [
    "n = 40\n",
    "print(n)\n",
    "n = 20\n",
    "print(n)"
   ]
  },
  {
   "cell_type": "markdown",
   "id": "36f5fcbd",
   "metadata": {
    "editable": false,
    "tags": [
     "remove"
    ]
   },
   "source": [
    "It's good practice to keep track of the values are assigned to your variables when writing code!\n",
    "\n",
    "Similarly, you can use assignment statements with other variables as the right-hand part of the statement, as below. You see that the value of `m` is now `40` as well."
   ]
  },
  {
   "cell_type": "code",
   "execution_count": 23,
   "id": "2b2b01d2",
   "metadata": {
    "editable": false,
    "tags": [
     "remove"
    ]
   },
   "outputs": [
    {
     "name": "stdout",
     "output_type": "stream",
     "text": [
      "40 40\n"
     ]
    }
   ],
   "source": [
    "n = 40\n",
    "m = n\n",
    "print(m, n)"
   ]
  },
  {
   "cell_type": "markdown",
   "id": "e7968d35",
   "metadata": {
    "editable": false,
    "tags": [
     "remove"
    ]
   },
   "source": [
    "#### Variable reassignment and value assignment\n",
    "\n",
    "Importantly, assigning values this way, at least for simple types like strings, integers, and floating point numbers, means that you assign the **value**, not the **variable name** to the new variable. This is an important distinction, as we will see when dealing with lists and sets. For now, be aware of the following:\n",
    "\n",
    "```python\n",
    "n = 40\n",
    "m = n\n",
    "print(m, n)\n",
    "n = 20\n",
    "print(m, n)\n",
    "```\n",
    "\n",
    "This bit of code could in principle have two outcomes when `n` gets reassigned the value `20`: \n",
    "* first, given that `m` is assigned `n`, and `n` changes its value, so does `m`, so now `m` is also `20`.\n",
    "* second, when `m` is assigned `n`, the value of `n` is taken, and assigned to `m` (i.e., `40`), so when `n` gets reassigned, nothing happens to `m`.\n",
    "\n",
    "It's the latter that's true, as running the code proves!"
   ]
  },
  {
   "cell_type": "code",
   "execution_count": 41,
   "id": "de5a319f",
   "metadata": {
    "editable": false,
    "tags": [
     "remove"
    ]
   },
   "outputs": [
    {
     "name": "stdout",
     "output_type": "stream",
     "text": [
      "40 40\n",
      "40 20\n"
     ]
    }
   ],
   "source": [
    "n = 40\n",
    "m = n\n",
    "print(m, n)\n",
    "n = 20\n",
    "print(m, n)"
   ]
  },
  {
   "cell_type": "markdown",
   "id": "c9a3fd51",
   "metadata": {
    "editable": false,
    "tags": [
     "remove"
    ]
   },
   "source": [
    "### 1.2.5 Expressions and statements\n",
    "\n",
    "We've been using the term 'operation' loosely. Python distinguishes two kinds of operations: expressions and statements.\n",
    "\n",
    "(TP 2.3) An **expression** is a combination of values, variables, and operators. A value all by itself is considered an expression, and so is a variable, so the following are all legal expressions:"
   ]
  },
  {
   "cell_type": "code",
   "execution_count": 24,
   "id": "18bab082",
   "metadata": {
    "editable": false,
    "tags": [
     "remove"
    ]
   },
   "outputs": [
    {
     "data": {
      "text/plain": [
       "42"
      ]
     },
     "execution_count": 24,
     "metadata": {},
     "output_type": "execute_result"
    }
   ],
   "source": [
    "42"
   ]
  },
  {
   "cell_type": "markdown",
   "id": "39b6a32e",
   "metadata": {
    "editable": false,
    "tags": [
     "remove"
    ]
   },
   "source": [
    "will output `42`"
   ]
  },
  {
   "cell_type": "code",
   "execution_count": null,
   "id": "d570ce5b",
   "metadata": {
    "editable": false,
    "tags": [
     "remove"
    ]
   },
   "outputs": [],
   "source": [
    "n"
   ]
  },
  {
   "cell_type": "markdown",
   "id": "a741494a",
   "metadata": {
    "editable": false,
    "tags": [
     "remove"
    ]
   },
   "source": [
    "will output `20` (after running the last practice example, at least! otherwise `n` doesn't exist!)\n",
    "\n",
    "and:"
   ]
  },
  {
   "cell_type": "code",
   "execution_count": null,
   "id": "7416ce75",
   "metadata": {
    "editable": false,
    "tags": [
     "remove"
    ]
   },
   "outputs": [],
   "source": [
    "n + 25"
   ]
  },
  {
   "cell_type": "markdown",
   "id": "dfc68626",
   "metadata": {
    "editable": false,
    "tags": [
     "remove"
    ]
   },
   "source": [
    "will output `45`\n",
    "\n",
    "When you type an expression at the prompt, the interpreter evaluates it, which means that it **finds the value of the expression**. In this example, `n` has the value `20` and `n + 25` has the value `45`. As we saw before, we can store the output of an expression in a new variable."
   ]
  },
  {
   "cell_type": "markdown",
   "id": "643d6b22",
   "metadata": {
    "editable": false,
    "tags": [
     "remove"
    ]
   },
   "source": [
    "A **statement** is a unit of code that has an effect, like creating a variable or displaying a value. Here are two examples of statements:"
   ]
  },
  {
   "cell_type": "code",
   "execution_count": null,
   "id": "a8b264da",
   "metadata": {
    "editable": false,
    "tags": [
     "remove"
    ]
   },
   "outputs": [],
   "source": [
    "n = 17\n",
    "print(n)"
   ]
  },
  {
   "cell_type": "markdown",
   "id": "13fe4f76",
   "metadata": {
    "editable": false,
    "tags": [
     "remove"
    ]
   },
   "source": [
    "The first line is an assignment statement that gives a value to `n`. The second line is a `print()` statement that displays the value of `n`.\n",
    "\n",
    "When you type a statement, the interpreter executes it, which means that it does whatever the statement says. In general, statements don’t have values."
   ]
  },
  {
   "cell_type": "markdown",
   "id": "6c21063b",
   "metadata": {
    "editable": false,
    "tags": [
     "remove"
    ]
   },
   "source": [
    "### 1.2.6 Adding comments to your code\n",
    "\n",
    "(TP 2.7) As programs get bigger and more complicated, they get more difficult to read. Formal languages are dense, and it is often difficult to look at a piece of code and figure out what it is doing, or why.\n",
    "\n",
    "For this reason, it is a good idea to add notes to your programs to explain in natural language what the program is doing. These notes are called comments, and they start with the `#` symbol:\n",
    "\n",
    "```python\n",
    "# compute the percentage of the hour that has elapsed\n",
    "percentage = (minute * 100) / 60\n",
    "```\n",
    "In this case, the comment appears on a line by itself. You can also put comments at the end of a line:\n",
    "\n",
    "```python\n",
    "percentage = (minute * 100) / 60     # percentage of an hour\n",
    "```\n",
    "\n",
    "Everything from the `#` to the end of the line is ignored—it has no effect on the execution of the program.\n",
    "\n",
    "Comments are most useful when they document non-obvious features of the code. It is reasonable to assume that the reader can figure out what the code does; it is more useful to explain why.\n",
    "\n",
    "This comment is redundant with the code and useless:\n",
    "```python\n",
    "v = 5     # assign 5 to v\n",
    "```\n",
    "This comment contains useful information that is not in the code:\n",
    "\n",
    "```python\n",
    "v = 5     # velocity in meters/second. \n",
    "```\n",
    "Good variable names can reduce the need for comments, but long names can make complex expressions hard to read, so there is a tradeoff.\n",
    "#### Practice\n",
    "Take the evil laughter code from above, and write one comment for each line describing what that line does."
   ]
  },
  {
   "cell_type": "markdown",
   "id": "0117549f",
   "metadata": {
    "editable": false,
    "tags": [
     "remove"
    ]
   },
   "source": [
    "### 1.2.7 Errors\n",
    "\n",
    "Three kinds of errors can occur in a program: syntax errors, runtime errors, and semantic errors. It is useful to distinguish between them in order to track them down more quickly.\n",
    "\n",
    "**Syntax error**:\n",
    "“Syntax” refers to the structure of a program and the rules about that structure. For example, parentheses have to come in matching pairs, so (1 + 2) is legal, but 8) is a syntax error.\n",
    "If there is a syntax error anywhere in your program, Python displays an error message and quits, and you will not be able to run the program. During the first few weeks of your programming career, you might spend a lot of time tracking down syntax errors. As you gain experience, you will make fewer errors and find them faster.\n",
    "\n",
    "**Runtime error**:\n",
    "The second type of error is a runtime error, so called because the error does not appear until after the program has started running. These errors are also called exceptions because they usually indicate that something exceptional (and bad) has happened.\n",
    "Runtime errors are rare in the simple programs you will see in the first few chapters, so it might be a while before you encounter one.\n",
    "\n",
    "**Semantic error**:\n",
    "The third type of error is “semantic”, which means related to meaning. If there is a semantic error in your program, it will run without generating error messages, but it will not do the right thing. It will do something else. Specifically, it will do what you told it to do.\n",
    "Identifying semantic errors can be tricky because it requires you to work backward by looking at the output of the program and trying to figure out what it is doing."
   ]
  },
  {
   "cell_type": "markdown",
   "id": "5817a016",
   "metadata": {
    "editable": false,
    "tags": [
     "remove"
    ]
   },
   "source": [
    "### 1.2.8 Homework"
   ]
  },
  {
   "cell_type": "markdown",
   "id": "f0abdfd7",
   "metadata": {
    "editable": false,
    "tags": [
     "remove"
    ]
   },
   "source": [
    "#### TP 1 / Exercise 1\n",
    "\n",
    "Whenever you are experimenting with a new feature, you should try to make mistakes. For example, in the “Hello, world!” program, what happens if you leave out one of the quotation marks? What if you leave out both? What if you spell print wrong?\n",
    "\n",
    "This kind of experiment helps you remember what you read; it also helps when you are programming, because you get to know what the error messages mean. It is better to make mistakes now and on purpose than later and accidentally. Create (at least) one code cell for each question.\n",
    "\n",
    "* In a print statement, what happens if you leave out one of the parentheses, or both?\n",
    "* If you are trying to print a string, what happens if you leave out one of the quotation marks, or both?\n",
    "* You can use a minus sign to make a negative number like -2. What happens if you put a plus sign before a number?\n",
    "* What about 2++2?\n",
    "* In math notation, leading zeros are ok, as in 09. What happens if you try this in Python? \n",
    "* What about 011?\n",
    "* What happens if you have two values with no operator between them?"
   ]
  },
  {
   "cell_type": "code",
   "execution_count": null,
   "id": "fe2405ee",
   "metadata": {},
   "outputs": [],
   "source": [
    "print(\"Hi\""
   ]
  },
  {
   "cell_type": "code",
   "execution_count": null,
   "id": "1a2f919b",
   "metadata": {},
   "outputs": [],
   "source": [
    "print\"Hi\"\n"
   ]
  },
  {
   "cell_type": "code",
   "execution_count": null,
   "id": "884deb97",
   "metadata": {},
   "outputs": [],
   "source": [
    "print(\"Hi)"
   ]
  },
  {
   "cell_type": "code",
   "execution_count": null,
   "id": "4059c82d",
   "metadata": {},
   "outputs": [],
   "source": [
    "print(Hi)"
   ]
  },
  {
   "cell_type": "code",
   "execution_count": null,
   "id": "b21790f2",
   "metadata": {},
   "outputs": [],
   "source": [
    "+2"
   ]
  },
  {
   "cell_type": "code",
   "execution_count": null,
   "id": "8c2e69f3",
   "metadata": {},
   "outputs": [],
   "source": [
    "2++2"
   ]
  },
  {
   "cell_type": "code",
   "execution_count": null,
   "id": "3ce73e89",
   "metadata": {},
   "outputs": [],
   "source": [
    "09"
   ]
  },
  {
   "cell_type": "code",
   "execution_count": null,
   "id": "2f921e89",
   "metadata": {},
   "outputs": [],
   "source": [
    "011"
   ]
  },
  {
   "cell_type": "code",
   "execution_count": null,
   "id": "b9148bbe",
   "metadata": {},
   "outputs": [],
   "source": [
    "2 3"
   ]
  },
  {
   "cell_type": "markdown",
   "id": "95efc165",
   "metadata": {
    "editable": false,
    "tags": [
     "remove"
    ]
   },
   "source": [
    "#### TP 1 / Exercise 2\n",
    "\n",
    "Practice with using Python as a calculator. Create code cells below and solve the following questions:\n",
    "\n",
    "* How many seconds are there in 42 minutes 42 seconds?\n",
    "* How many miles are there in 10 kilometers? Hint: there are 1.61 kilometers in a mile.\n",
    "* If you run a 10 kilometer race in 42 minutes 42 seconds, what is your average pace (time per mile in minutes and seconds)? What is your average speed in miles per hour?"
   ]
  },
  {
   "cell_type": "code",
   "execution_count": null,
   "id": "7af51245",
   "metadata": {},
   "outputs": [
    {
     "data": {
      "text/plain": [
       "2562"
      ]
     },
     "execution_count": 48,
     "metadata": {},
     "output_type": "execute_result"
    },
    {
     "data": {
      "text/plain": [
       "6.211180124223602"
      ]
     },
     "execution_count": 48,
     "metadata": {},
     "output_type": "execute_result"
    },
    {
     "name": "stdout",
     "output_type": "stream",
     "text": [
      "_\n"
     ]
    },
    {
     "data": {
      "text/plain": [
       "6.0"
      ]
     },
     "execution_count": 48,
     "metadata": {},
     "output_type": "execute_result"
    },
    {
     "data": {
      "text/plain": [
       "52.48200000000003"
      ]
     },
     "execution_count": 48,
     "metadata": {},
     "output_type": "execute_result"
    },
    {
     "name": "stdout",
     "output_type": "stream",
     "text": [
      "_\n"
     ]
    },
    {
     "data": {
      "text/plain": [
       "8.727653570337614"
      ]
     },
     "execution_count": 48,
     "metadata": {},
     "output_type": "execute_result"
    },
    {
     "data": {
      "text/plain": [
       "8.78526184472928"
      ]
     },
     "execution_count": 48,
     "metadata": {},
     "output_type": "execute_result"
    }
   ],
   "source": [
    "42 * 60 + 42\n",
    "10 / 1.61\n",
    "print(\"_\")\n",
    "(42 * 60 + 42) / (10 / 1.61) // 60\n",
    "(42 * 60 + 42) / (10 / 1.61) % 60\n",
    "print(\"_\")\n",
    "(10 / 1.61) / ((42 * 60 + 42) / 3600)"
   ]
  },
  {
   "cell_type": "code",
   "execution_count": null,
   "id": "8684040f",
   "metadata": {},
   "outputs": [],
   "source": [
    "def e2_q1(): # How many seconds are there in 42 minutes 42 seconds?\n",
    "    return 2562 # paste your answer here\n",
    "\n",
    "def e2_q2(): # How many miles are there in 10 kilometers?\n",
    "    miles = 6.211180124223602 # paste your answer here\n",
    "    return miles\n",
    "\n",
    "def e2_q3a(): # If you run a 10 kilometer race in 42 minutes 42 seconds, what is your average pace?\n",
    "    minutes = 6.0 # paste your answer here\n",
    "    seconds = 52.48200000000003 # paste your answer here\n",
    "    return (minutes, seconds) \n",
    "\n",
    "def e2_q3b(): # If you run a 10 kilometer race in 42 minutes 42 seconds, what is your average speed in miles per hour?\n",
    "    mph = 8.727653570337614 # paste your answer here\n",
    "    return mph\n"
   ]
  },
  {
   "cell_type": "markdown",
   "id": "29e3b2fa",
   "metadata": {
    "editable": false,
    "tags": [
     "remove"
    ]
   },
   "source": [
    "#### TP 2 / Exercise 1  \n",
    "Repeating my advice from the previous chapter, whenever you learn a new feature, you should try it out in interactive mode and make errors on purpose to see what goes wrong. Create one code cell for each question.\n",
    "\n",
    "* We’ve seen that n = 42 is legal. What about 42 = n?\n",
    "* How about x = y = 1?\n",
    "* In some languages every statement ends with a semi-colon, ;. What happens if you put a semi-colon at the end of a Python statement?\n",
    "* What if you put a period at the end of a statement?\n",
    "* In math notation you can multiply x and y like this: x y. What happens if you try that in Python?"
   ]
  },
  {
   "cell_type": "code",
   "execution_count": null,
   "id": "55c65a2b",
   "metadata": {},
   "outputs": [],
   "source": [
    "42 = n"
   ]
  },
  {
   "cell_type": "code",
   "execution_count": null,
   "id": "19140969",
   "metadata": {},
   "outputs": [],
   "source": [
    "x = y = 1"
   ]
  },
  {
   "cell_type": "code",
   "execution_count": null,
   "id": "2511fd84",
   "metadata": {},
   "outputs": [],
   "source": [
    "y = 1;"
   ]
  },
  {
   "cell_type": "code",
   "execution_count": null,
   "id": "9e4787fc",
   "metadata": {},
   "outputs": [],
   "source": [
    "z = 1."
   ]
  },
  {
   "cell_type": "code",
   "execution_count": null,
   "id": "44a45675",
   "metadata": {},
   "outputs": [],
   "source": [
    "print(\"Hi\")."
   ]
  },
  {
   "cell_type": "code",
   "execution_count": null,
   "id": "0f680274",
   "metadata": {},
   "outputs": [],
   "source": [
    "x = 5\n",
    "y = 7\n",
    "x y"
   ]
  },
  {
   "cell_type": "markdown",
   "id": "d168e3c9",
   "metadata": {
    "editable": false,
    "tags": [
     "remove"
    ]
   },
   "source": [
    "#### TP 2 / Exercise 2  \n",
    "\n",
    "Practice using the Python interpreter as a calculator. Create one code cell for each question, and use variables to store the named values: use the variable names 'radius', 'pi' for the first; 'price', 'discount' 'shipping_first', 'shipping_additional' for the second, and 'start_time', 'easy_pace', 'tempo_pace' for the third.\n",
    "\n",
    "* The volume of a sphere with radius $r$ is $ 4/3 \\times \\pi \\times r^3$. What is the volume of a sphere with radius 5?\n",
    "* Suppose the cover price of a book is \\$24.95, but bookstores get a 40 percent discount. Shipping costs 3 dollars for the first copy and 75 cents for each additional copy. What is the total wholesale cost for 60 copies?\n",
    "* If I leave my house at 6:52 am and run 1 mile at an easy pace (8:15 per mile), then 3 miles at tempo (7:12 per mile) and 1 mile at easy pace again, what time do I get home for breakfast?"
   ]
  },
  {
   "cell_type": "code",
   "execution_count": null,
   "id": "639793c2",
   "metadata": {},
   "outputs": [
    {
     "data": {
      "text/plain": [
       "523.5987755982983"
      ]
     },
     "execution_count": 45,
     "metadata": {},
     "output_type": "execute_result"
    }
   ],
   "source": [
    "radius = 5\n",
    "def get_volume(radius):\n",
    "    pi = 3.1415926535897932\n",
    "    volume = (4/3) * pi * radius**3 # FILL THIS IN\n",
    "    return volume\n",
    "\n",
    "get_volume(radius) "
   ]
  },
  {
   "cell_type": "code",
   "execution_count": null,
   "id": "20f2b52d",
   "metadata": {
    "editable": false,
    "tags": [
     "remove"
    ]
   },
   "outputs": [],
   "source": [
    "# variables:\n",
    "price = 24.95\n",
    "bookstore_discount = 0.40\n",
    "shipping_first = 3.00\n",
    "shipping_additional = 0.75\n",
    "n_copies = 60\n",
    "# bookstore pre shipping price:\n",
    "bookstore_price = (price - (price * bookstore_discount))\n",
    "tot_price_pre_shipping = bookstore_price * n_copies\n",
    "# shipping cost:\n",
    "shipping_cost = shipping_first + ((n_copies-1) * shipping_additional)\n",
    "total_cost = tot_price_pre_shipping + shipping_cost\n",
    "print(total_cost)"
   ]
  },
  {
   "cell_type": "code",
   "execution_count": null,
   "id": "4322808a",
   "metadata": {
    "editable": false,
    "tags": [
     "remove"
    ]
   },
   "outputs": [],
   "source": [
    "# function for hours:mins:seconds to seconds after midnight\n",
    "def hms_to_sam(hours, minutes, seconds):\n",
    "    ####\n",
    "    seconds_after_midnight = (hours * 3600) + (minutes * 60) + seconds\n",
    "    return seconds_after_midnight\n",
    "\n",
    "# function for sec-after-midnight to hrs:min:sec\n",
    "def sam_to_hms(sec_aft_mid):\n",
    "    hours = sec_aft_mid // 3600\n",
    "    mins = (sec_aft_mid - (hours*3600)) // 60\n",
    "    secs = (sec_aft_mid - (hours*3600 + mins*60))\n",
    "    return hours, mins, secs"
   ]
  },
  {
   "cell_type": "code",
   "execution_count": null,
   "id": "4a3aed70",
   "metadata": {
    "editable": false,
    "tags": [
     "remove"
    ]
   },
   "outputs": [],
   "source": [
    "sam_to_hms(3402)"
   ]
  },
  {
   "cell_type": "code",
   "execution_count": null,
   "id": "e568cfa3",
   "metadata": {
    "editable": false,
    "tags": [
     "remove"
    ]
   },
   "outputs": [],
   "source": [
    "# How many minutes am I running?\n",
    "len_m_in_s = 60\n",
    "len_h_in_m = 60\n",
    "easy_pace = (8 * len_m_in_s) + 15\n",
    "tempo = (7 * len_m_in_s) + 12\n",
    "#\n",
    "tot_num_sec = (1 * easy_pace) + (3 * tempo) + (1 * easy_pace)\n",
    "tot_num_min = tot_num_sec // len_m_in_s\n",
    "rem_num_sec = tot_num_sec % tot_num_min\n",
    "print(tot_num_min, rem_num_sec)\n",
    "#\n",
    "time_of_leaving = (6 * len_h_in_m * len_m_in_s) + (52 * len_m_in_s) + (0 * 1)\n",
    "time_of_return = time_of_leaving + tot_num_sec\n",
    "#\n",
    "hours_of_return = time_of_return // (len_h_in_m * len_m_in_s)\n",
    "min_of_return = (time_of_return - (hours_of_return * 3600)) // 60\n",
    "sec_of_return = (time_of_return - ((hours_of_return * 3600) + \n",
    "                                   (min_of_return * 60)))\n",
    "print(hours_of_return, min_of_return, sec_of_return)"
   ]
  },
  {
   "cell_type": "code",
   "execution_count": null,
   "id": "95a90864",
   "metadata": {
    "editable": false,
    "tags": [
     "remove"
    ]
   },
   "outputs": [],
   "source": [
    "print(hours_of_return, ':', min_of_return, ':', sec_of_return)"
   ]
  }
 ],
 "metadata": {
  "kernelspec": {
   "display_name": "venv",
   "language": "python",
   "name": "python3"
  },
  "language_info": {
   "codemirror_mode": {
    "name": "ipython",
    "version": 3
   },
   "file_extension": ".py",
   "mimetype": "text/x-python",
   "name": "python",
   "nbconvert_exporter": "python",
   "pygments_lexer": "ipython3",
   "version": "3.12.4"
  }
 },
 "nbformat": 4,
 "nbformat_minor": 5
}
